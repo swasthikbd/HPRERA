{
 "cells": [
  {
   "cell_type": "code",
   "execution_count": 11,
   "id": "760cf853-f8cd-456b-b811-30407e85e032",
   "metadata": {},
   "outputs": [
    {
     "name": "stdout",
     "output_type": "stream",
     "text": [
      "Defaulting to user installation because normal site-packages is not writeableNote: you may need to restart the kernel to use updated packages.\n",
      "\n",
      "Requirement already satisfied: BeautifulSoup4 in c:\\programdata\\anaconda3\\lib\\site-packages (4.12.3)\n",
      "Requirement already satisfied: soupsieve>1.2 in c:\\programdata\\anaconda3\\lib\\site-packages (from BeautifulSoup4) (2.5)\n"
     ]
    }
   ],
   "source": [
    "pip install BeautifulSoup4\n",
    "#to extract the information containing in the url"
   ]
  },
  {
   "cell_type": "code",
   "execution_count": 12,
   "id": "57f4f662-29f8-4529-9e55-e7a48383ce51",
   "metadata": {},
   "outputs": [],
   "source": [
    "import requests #sending the request to the html\n",
    "from bs4 import BeautifulSoup"
   ]
  },
  {
   "cell_type": "code",
   "execution_count": 34,
   "id": "6e2b5388-c96c-4647-bcb8-4230a0d0da36",
   "metadata": {},
   "outputs": [
    {
     "name": "stdout",
     "output_type": "stream",
     "text": [
      "{'Project Name': 'Myst Project', 'Project Registration No': 'RERAHPSOP08170001', 'Promoter Name': 'Ajay Singh Cheema', 'MobileNo': '9779177770', 'District': 'ajay.cheema@impactprojects.in', 'PANNo': 'Solan'}\n",
      "{'Project Name': \"Uma's Euphoria\", 'Project Registration No': 'RERAHPSOP08170002', 'Promoter Name': 'Uma Bagolia', 'MobileNo': '9816245566', 'District': 'info@sandwoods.com', 'PANNo': 'Solan'}\n",
      "{'Project Name': 'Auramah Valley Phase-II', 'Project Registration No': 'RERAHPSHP08170003', 'Promoter Name': 'Manavinder Singh', 'MobileNo': '8527733503', 'District': 'manav@imperialholding.in', 'PANNo': 'Shimla'}\n",
      "{'Project Name': 'Samavana-I', 'Project Registration No': 'RERAHPSOP08170004', 'Promoter Name': 'Gurjyot Singh', 'MobileNo': '9717188222', 'District': 'singh-gurjyot@dlf.in', 'PANNo': 'Solan'}\n",
      "{'Project Name': 'Omaxe Parkwood', 'Project Registration No': 'RERAHPSOP09170007', 'Promoter Name': 'Bhupendra Singh', 'MobileNo': '9711800256', 'District': 'daleepmoudgil@omaxe.com', 'PANNo': 'Solan'}\n",
      "{'Project Name': 'THE WOODS BAROG', 'Project Registration No': 'RERAHPSOP10170008', 'Promoter Name': 'R K BHALLA', 'MobileNo': '9811056892', 'District': 'rkbhalla1938@gmail.com', 'PANNo': 'Solan'}\n"
     ]
    }
   ],
   "source": [
    "url = \"http://www.hprera.in/WebSite/ProjectList/RegisteredProjects\"\n",
    "response = requests.get(url)\n",
    "soup = BeautifulSoup(response.text, 'html.parser')\n",
    "table = soup.find('table')\n",
    "\n",
    "projects = []\n",
    "\n",
    "for row in table.find_all('tr')[1:7]:\n",
    "    cols = row.find_all('td')\n",
    "    project_details = {\n",
    "        'Project Name': cols[1].text.strip(),\n",
    "        'Project Registration No': cols[2].text.strip(),\n",
    "        'Promoter Name': cols[3].text.strip(),\n",
    "        'MobileNo': cols[4].text.strip(),\n",
    "        'District': cols[5].text.strip(),\n",
    "        'PANNo': cols[6].text.strip()  \n",
    "    }\n",
    "    projects.append(project_details)\n",
    "for project in projects:\n",
    "    print(project)"
   ]
  },
  {
   "cell_type": "code",
   "execution_count": null,
   "id": "ab992fc6-a2eb-4b8d-a5d0-a6562ed357ec",
   "metadata": {},
   "outputs": [],
   "source": []
  }
 ],
 "metadata": {
  "kernelspec": {
   "display_name": "Python 3 (ipykernel)",
   "language": "python",
   "name": "python3"
  },
  "language_info": {
   "codemirror_mode": {
    "name": "ipython",
    "version": 3
   },
   "file_extension": ".py",
   "mimetype": "text/x-python",
   "name": "python",
   "nbconvert_exporter": "python",
   "pygments_lexer": "ipython3",
   "version": "3.12.4"
  }
 },
 "nbformat": 4,
 "nbformat_minor": 5
}
